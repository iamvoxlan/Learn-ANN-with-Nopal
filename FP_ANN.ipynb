{
 "cells": [
  {
   "cell_type": "markdown",
   "metadata": {},
   "source": [
    "# KLASIFIKASI BUNGA IRIS"
   ]
  },
  {
   "cell_type": "markdown",
   "metadata": {},
   "source": [
    "Pada tugas besar ini akan dilakukan klasifikasi jenis bunga Iris menjadi 3 spesies, \"Iris-setosa\", \"Iris-versicolor\", dan \"Iris-virginica\". \n",
    "Anggota Kelompok:\n",
    "- Muhammad Naufal (F1D 016 060) - HARD CARRY"
   ]
  },
  {
   "cell_type": "markdown",
   "metadata": {},
   "source": [
    "# BAGIAN 1 - DATA PREPARATION"
   ]
  },
  {
   "cell_type": "code",
   "execution_count": 1,
   "metadata": {},
   "outputs": [],
   "source": [
    "import pandas as pd"
   ]
  },
  {
   "cell_type": "markdown",
   "metadata": {},
   "source": [
    "Dilakukan import library pandas, library pandas sendiri digunakan untuk melakukan proses load data dari file .csv. Pada aplikasi ini pandas diimpor dengan alias \"pd\" untuk memudahkan akses nama library yang lebih singkat"
   ]
  },
  {
   "cell_type": "code",
   "execution_count": 2,
   "metadata": {},
   "outputs": [],
   "source": [
    "data = pd.read_csv('Iris.csv')"
   ]
  },
  {
   "cell_type": "markdown",
   "metadata": {},
   "source": [
    "Dilakukan proses load data dari file .csv dengan memanggil method read_csv() dari library pandas untuk me-load data .csv yang berisi data bunga Iris dan disimpan ke dalam variabel \"data\""
   ]
  },
  {
   "cell_type": "code",
   "execution_count": 3,
   "metadata": {},
   "outputs": [
    {
     "data": {
      "text/html": [
       "<div>\n",
       "<style scoped>\n",
       "    .dataframe tbody tr th:only-of-type {\n",
       "        vertical-align: middle;\n",
       "    }\n",
       "\n",
       "    .dataframe tbody tr th {\n",
       "        vertical-align: top;\n",
       "    }\n",
       "\n",
       "    .dataframe thead th {\n",
       "        text-align: right;\n",
       "    }\n",
       "</style>\n",
       "<table border=\"1\" class=\"dataframe\">\n",
       "  <thead>\n",
       "    <tr style=\"text-align: right;\">\n",
       "      <th></th>\n",
       "      <th>Id</th>\n",
       "      <th>SepalLengthCm</th>\n",
       "      <th>SepalWidthCm</th>\n",
       "      <th>PetalLengthCm</th>\n",
       "      <th>PetalWidthCm</th>\n",
       "      <th>Species</th>\n",
       "    </tr>\n",
       "  </thead>\n",
       "  <tbody>\n",
       "    <tr>\n",
       "      <th>0</th>\n",
       "      <td>1</td>\n",
       "      <td>5.1</td>\n",
       "      <td>3.5</td>\n",
       "      <td>1.4</td>\n",
       "      <td>0.2</td>\n",
       "      <td>Iris-setosa</td>\n",
       "    </tr>\n",
       "    <tr>\n",
       "      <th>1</th>\n",
       "      <td>2</td>\n",
       "      <td>4.9</td>\n",
       "      <td>3.0</td>\n",
       "      <td>1.4</td>\n",
       "      <td>0.2</td>\n",
       "      <td>Iris-setosa</td>\n",
       "    </tr>\n",
       "    <tr>\n",
       "      <th>2</th>\n",
       "      <td>3</td>\n",
       "      <td>4.7</td>\n",
       "      <td>3.2</td>\n",
       "      <td>1.3</td>\n",
       "      <td>0.2</td>\n",
       "      <td>Iris-setosa</td>\n",
       "    </tr>\n",
       "    <tr>\n",
       "      <th>3</th>\n",
       "      <td>4</td>\n",
       "      <td>4.6</td>\n",
       "      <td>3.1</td>\n",
       "      <td>1.5</td>\n",
       "      <td>0.2</td>\n",
       "      <td>Iris-setosa</td>\n",
       "    </tr>\n",
       "    <tr>\n",
       "      <th>4</th>\n",
       "      <td>5</td>\n",
       "      <td>5.0</td>\n",
       "      <td>3.6</td>\n",
       "      <td>1.4</td>\n",
       "      <td>0.2</td>\n",
       "      <td>Iris-setosa</td>\n",
       "    </tr>\n",
       "    <tr>\n",
       "      <th>...</th>\n",
       "      <td>...</td>\n",
       "      <td>...</td>\n",
       "      <td>...</td>\n",
       "      <td>...</td>\n",
       "      <td>...</td>\n",
       "      <td>...</td>\n",
       "    </tr>\n",
       "    <tr>\n",
       "      <th>145</th>\n",
       "      <td>146</td>\n",
       "      <td>6.7</td>\n",
       "      <td>3.0</td>\n",
       "      <td>5.2</td>\n",
       "      <td>2.3</td>\n",
       "      <td>Iris-virginica</td>\n",
       "    </tr>\n",
       "    <tr>\n",
       "      <th>146</th>\n",
       "      <td>147</td>\n",
       "      <td>6.3</td>\n",
       "      <td>2.5</td>\n",
       "      <td>5.0</td>\n",
       "      <td>1.9</td>\n",
       "      <td>Iris-virginica</td>\n",
       "    </tr>\n",
       "    <tr>\n",
       "      <th>147</th>\n",
       "      <td>148</td>\n",
       "      <td>6.5</td>\n",
       "      <td>3.0</td>\n",
       "      <td>5.2</td>\n",
       "      <td>2.0</td>\n",
       "      <td>Iris-virginica</td>\n",
       "    </tr>\n",
       "    <tr>\n",
       "      <th>148</th>\n",
       "      <td>149</td>\n",
       "      <td>6.2</td>\n",
       "      <td>3.4</td>\n",
       "      <td>5.4</td>\n",
       "      <td>2.3</td>\n",
       "      <td>Iris-virginica</td>\n",
       "    </tr>\n",
       "    <tr>\n",
       "      <th>149</th>\n",
       "      <td>150</td>\n",
       "      <td>5.9</td>\n",
       "      <td>3.0</td>\n",
       "      <td>5.1</td>\n",
       "      <td>1.8</td>\n",
       "      <td>Iris-virginica</td>\n",
       "    </tr>\n",
       "  </tbody>\n",
       "</table>\n",
       "<p>150 rows × 6 columns</p>\n",
       "</div>"
      ],
      "text/plain": [
       "      Id  SepalLengthCm  SepalWidthCm  PetalLengthCm  PetalWidthCm  \\\n",
       "0      1            5.1           3.5            1.4           0.2   \n",
       "1      2            4.9           3.0            1.4           0.2   \n",
       "2      3            4.7           3.2            1.3           0.2   \n",
       "3      4            4.6           3.1            1.5           0.2   \n",
       "4      5            5.0           3.6            1.4           0.2   \n",
       "..   ...            ...           ...            ...           ...   \n",
       "145  146            6.7           3.0            5.2           2.3   \n",
       "146  147            6.3           2.5            5.0           1.9   \n",
       "147  148            6.5           3.0            5.2           2.0   \n",
       "148  149            6.2           3.4            5.4           2.3   \n",
       "149  150            5.9           3.0            5.1           1.8   \n",
       "\n",
       "            Species  \n",
       "0       Iris-setosa  \n",
       "1       Iris-setosa  \n",
       "2       Iris-setosa  \n",
       "3       Iris-setosa  \n",
       "4       Iris-setosa  \n",
       "..              ...  \n",
       "145  Iris-virginica  \n",
       "146  Iris-virginica  \n",
       "147  Iris-virginica  \n",
       "148  Iris-virginica  \n",
       "149  Iris-virginica  \n",
       "\n",
       "[150 rows x 6 columns]"
      ]
     },
     "execution_count": 3,
     "metadata": {},
     "output_type": "execute_result"
    }
   ],
   "source": [
    "data"
   ]
  },
  {
   "cell_type": "code",
   "execution_count": 4,
   "metadata": {},
   "outputs": [
    {
     "data": {
      "text/html": [
       "<div>\n",
       "<style scoped>\n",
       "    .dataframe tbody tr th:only-of-type {\n",
       "        vertical-align: middle;\n",
       "    }\n",
       "\n",
       "    .dataframe tbody tr th {\n",
       "        vertical-align: top;\n",
       "    }\n",
       "\n",
       "    .dataframe thead th {\n",
       "        text-align: right;\n",
       "    }\n",
       "</style>\n",
       "<table border=\"1\" class=\"dataframe\">\n",
       "  <thead>\n",
       "    <tr style=\"text-align: right;\">\n",
       "      <th></th>\n",
       "      <th>Id</th>\n",
       "      <th>SepalLengthCm</th>\n",
       "      <th>SepalWidthCm</th>\n",
       "      <th>PetalLengthCm</th>\n",
       "      <th>PetalWidthCm</th>\n",
       "    </tr>\n",
       "  </thead>\n",
       "  <tbody>\n",
       "    <tr>\n",
       "      <th>count</th>\n",
       "      <td>150.000000</td>\n",
       "      <td>150.000000</td>\n",
       "      <td>150.000000</td>\n",
       "      <td>150.000000</td>\n",
       "      <td>150.000000</td>\n",
       "    </tr>\n",
       "    <tr>\n",
       "      <th>mean</th>\n",
       "      <td>75.500000</td>\n",
       "      <td>5.843333</td>\n",
       "      <td>3.054000</td>\n",
       "      <td>3.758667</td>\n",
       "      <td>1.198667</td>\n",
       "    </tr>\n",
       "    <tr>\n",
       "      <th>std</th>\n",
       "      <td>43.445368</td>\n",
       "      <td>0.828066</td>\n",
       "      <td>0.433594</td>\n",
       "      <td>1.764420</td>\n",
       "      <td>0.763161</td>\n",
       "    </tr>\n",
       "    <tr>\n",
       "      <th>min</th>\n",
       "      <td>1.000000</td>\n",
       "      <td>4.300000</td>\n",
       "      <td>2.000000</td>\n",
       "      <td>1.000000</td>\n",
       "      <td>0.100000</td>\n",
       "    </tr>\n",
       "    <tr>\n",
       "      <th>25%</th>\n",
       "      <td>38.250000</td>\n",
       "      <td>5.100000</td>\n",
       "      <td>2.800000</td>\n",
       "      <td>1.600000</td>\n",
       "      <td>0.300000</td>\n",
       "    </tr>\n",
       "    <tr>\n",
       "      <th>50%</th>\n",
       "      <td>75.500000</td>\n",
       "      <td>5.800000</td>\n",
       "      <td>3.000000</td>\n",
       "      <td>4.350000</td>\n",
       "      <td>1.300000</td>\n",
       "    </tr>\n",
       "    <tr>\n",
       "      <th>75%</th>\n",
       "      <td>112.750000</td>\n",
       "      <td>6.400000</td>\n",
       "      <td>3.300000</td>\n",
       "      <td>5.100000</td>\n",
       "      <td>1.800000</td>\n",
       "    </tr>\n",
       "    <tr>\n",
       "      <th>max</th>\n",
       "      <td>150.000000</td>\n",
       "      <td>7.900000</td>\n",
       "      <td>4.400000</td>\n",
       "      <td>6.900000</td>\n",
       "      <td>2.500000</td>\n",
       "    </tr>\n",
       "  </tbody>\n",
       "</table>\n",
       "</div>"
      ],
      "text/plain": [
       "               Id  SepalLengthCm  SepalWidthCm  PetalLengthCm  PetalWidthCm\n",
       "count  150.000000     150.000000    150.000000     150.000000    150.000000\n",
       "mean    75.500000       5.843333      3.054000       3.758667      1.198667\n",
       "std     43.445368       0.828066      0.433594       1.764420      0.763161\n",
       "min      1.000000       4.300000      2.000000       1.000000      0.100000\n",
       "25%     38.250000       5.100000      2.800000       1.600000      0.300000\n",
       "50%     75.500000       5.800000      3.000000       4.350000      1.300000\n",
       "75%    112.750000       6.400000      3.300000       5.100000      1.800000\n",
       "max    150.000000       7.900000      4.400000       6.900000      2.500000"
      ]
     },
     "execution_count": 4,
     "metadata": {},
     "output_type": "execute_result"
    }
   ],
   "source": [
    "data.describe()"
   ]
  },
  {
   "cell_type": "markdown",
   "metadata": {},
   "source": [
    "Pada tabel di atas ditampilkan data yang sudah di-load dari file .csv yang disimpan dalam variabel bernama data, dimana variabel ini bertipe pandas dataframe\n",
    "Terdpat 150 baris data Bunga Iris yang terdiri dari 6 kolom\n",
    "Dari 6 kolom yang tersedia, 5 kolom berisi angka numerik, dan 4 di antaranya bernilai kontinu dan  1 kolom lainnya adalah kolom id yang hanya menunjukkan index atau id dari data.\n",
    "Selain itu terdapat 1 buah kolom yang bernama Species, dimana data ini bersifat kategorial yang menunjukkan kategori atau jenis bunga Iris"
   ]
  },
  {
   "cell_type": "code",
   "execution_count": 5,
   "metadata": {},
   "outputs": [
    {
     "data": {
      "text/plain": [
       "Id               0\n",
       "SepalLengthCm    0\n",
       "SepalWidthCm     0\n",
       "PetalLengthCm    0\n",
       "PetalWidthCm     0\n",
       "Species          0\n",
       "dtype: int64"
      ]
     },
     "execution_count": 5,
     "metadata": {},
     "output_type": "execute_result"
    }
   ],
   "source": [
    "data.isnull().sum()"
   ]
  },
  {
   "cell_type": "markdown",
   "metadata": {},
   "source": [
    "Pada blok kode di atas dilakukan pengecekan jumlah data yang bernilai null atua kosong pada data yang sudah di-load. Ternyata untuk semua kolom, jumlah data yang null atau kosong adalah 0 yang menunjukkan bahwa data lengkap, sehingga tidak perlu dilakukan proses untuk eliminasi atau melakukan proses replace seperti menggunakan interpolasi untuk data yang kosong."
   ]
  },
  {
   "cell_type": "code",
   "execution_count": 6,
   "metadata": {},
   "outputs": [
    {
     "data": {
      "text/html": [
       "<div>\n",
       "<style scoped>\n",
       "    .dataframe tbody tr th:only-of-type {\n",
       "        vertical-align: middle;\n",
       "    }\n",
       "\n",
       "    .dataframe tbody tr th {\n",
       "        vertical-align: top;\n",
       "    }\n",
       "\n",
       "    .dataframe thead th {\n",
       "        text-align: right;\n",
       "    }\n",
       "</style>\n",
       "<table border=\"1\" class=\"dataframe\">\n",
       "  <thead>\n",
       "    <tr style=\"text-align: right;\">\n",
       "      <th></th>\n",
       "      <th>Id</th>\n",
       "      <th>SepalLengthCm</th>\n",
       "      <th>SepalWidthCm</th>\n",
       "      <th>PetalLengthCm</th>\n",
       "      <th>PetalWidthCm</th>\n",
       "    </tr>\n",
       "  </thead>\n",
       "  <tbody>\n",
       "    <tr>\n",
       "      <th>Id</th>\n",
       "      <td>1.000000</td>\n",
       "      <td>0.716676</td>\n",
       "      <td>-0.397729</td>\n",
       "      <td>0.882747</td>\n",
       "      <td>0.899759</td>\n",
       "    </tr>\n",
       "    <tr>\n",
       "      <th>SepalLengthCm</th>\n",
       "      <td>0.716676</td>\n",
       "      <td>1.000000</td>\n",
       "      <td>-0.109369</td>\n",
       "      <td>0.871754</td>\n",
       "      <td>0.817954</td>\n",
       "    </tr>\n",
       "    <tr>\n",
       "      <th>SepalWidthCm</th>\n",
       "      <td>-0.397729</td>\n",
       "      <td>-0.109369</td>\n",
       "      <td>1.000000</td>\n",
       "      <td>-0.420516</td>\n",
       "      <td>-0.356544</td>\n",
       "    </tr>\n",
       "    <tr>\n",
       "      <th>PetalLengthCm</th>\n",
       "      <td>0.882747</td>\n",
       "      <td>0.871754</td>\n",
       "      <td>-0.420516</td>\n",
       "      <td>1.000000</td>\n",
       "      <td>0.962757</td>\n",
       "    </tr>\n",
       "    <tr>\n",
       "      <th>PetalWidthCm</th>\n",
       "      <td>0.899759</td>\n",
       "      <td>0.817954</td>\n",
       "      <td>-0.356544</td>\n",
       "      <td>0.962757</td>\n",
       "      <td>1.000000</td>\n",
       "    </tr>\n",
       "  </tbody>\n",
       "</table>\n",
       "</div>"
      ],
      "text/plain": [
       "                     Id  SepalLengthCm  SepalWidthCm  PetalLengthCm  \\\n",
       "Id             1.000000       0.716676     -0.397729       0.882747   \n",
       "SepalLengthCm  0.716676       1.000000     -0.109369       0.871754   \n",
       "SepalWidthCm  -0.397729      -0.109369      1.000000      -0.420516   \n",
       "PetalLengthCm  0.882747       0.871754     -0.420516       1.000000   \n",
       "PetalWidthCm   0.899759       0.817954     -0.356544       0.962757   \n",
       "\n",
       "               PetalWidthCm  \n",
       "Id                 0.899759  \n",
       "SepalLengthCm      0.817954  \n",
       "SepalWidthCm      -0.356544  \n",
       "PetalLengthCm      0.962757  \n",
       "PetalWidthCm       1.000000  "
      ]
     },
     "execution_count": 6,
     "metadata": {},
     "output_type": "execute_result"
    }
   ],
   "source": [
    "data.corr()"
   ]
  },
  {
   "cell_type": "markdown",
   "metadata": {},
   "source": [
    "Pada blok kode di atas ditampilkan korelasi antar dua variabel/kolom. Rentang nilai korelasi berada pada rentang -1 sampai 1"
   ]
  },
  {
   "cell_type": "code",
   "execution_count": 7,
   "metadata": {},
   "outputs": [],
   "source": [
    "import matplotlib.pyplot as plt\n",
    "%matplotlib inline"
   ]
  },
  {
   "cell_type": "code",
   "execution_count": 8,
   "metadata": {},
   "outputs": [
    {
     "data": {
      "image/png": "[encoded data removed]",
      "text/plain": [
       "<Figure size 720x432 with 1 Axes>"
      ]
     },
     "metadata": {
      "needs_background": "light"
     },
     "output_type": "display_data"
    }
   ],
   "source": [
    "plt.figure(figsize=(10,6))\n",
    "plt.scatter(data['PetalWidthCm'], data['SepalLengthCm'], data['Species']==\"Iris-versicolor\", color='red')\n",
    "plt.scatter(data['PetalWidthCm'], data['SepalLengthCm'], data['Species']==\"Iris-setosa\", color='blue')\n",
    "plt.scatter(data['PetalWidthCm'], data['SepalLengthCm'], data['Species']==\"Iris-virginica\", color='green')\n",
    "plt.xlabel('PetalWidthCm')\n",
    "plt.ylabel('SepalLengthCm')\n",
    "plt.show()"
   ]
  },
  {
   "cell_type": "markdown",
   "metadata": {},
   "source": [
    "Pada kode di atas ditampilkan visualisasi korelasi antar data PetalWidth dan SepalLength, dimana pada scatterplot di atas ditampilkan sesuai warna masing-masing kategori atau kelas, terlihat bahwa antar kelas memilki daerah yang terbagi jelas."
   ]
  },
  {
   "cell_type": "markdown",
   "metadata": {},
   "source": [
    "# BAGIAN 2 - TRAINING"
   ]
  },
  {
   "cell_type": "markdown",
   "metadata": {},
   "source": [
    "Sebelum proses fitting atau train data dilakukan, perlu adanya normalisasi yang dilakukan untuk data yang ada dan pembagian data menjadi data train & testing"
   ]
  },
  {
   "cell_type": "code",
   "execution_count": 10,
   "metadata": {},
   "outputs": [],
   "source": [
    "data['Species']=data['Species'].map({'Iris-setosa':1, 'Iris-versicolor':2, 'Iris-virginica':3})"
   ]
  },
  {
   "cell_type": "markdown",
   "metadata": {},
   "source": [
    "Kode di atas digunakan untuk melakukan mapping dari kategori yang bertipe string menjadi index dalam bentuk angka"
   ]
  },
  {
   "cell_type": "code",
   "execution_count": 11,
   "metadata": {},
   "outputs": [
    {
     "data": {
      "text/html": [
       "<div>\n",
       "<style scoped>\n",
       "    .dataframe tbody tr th:only-of-type {\n",
       "        vertical-align: middle;\n",
       "    }\n",
       "\n",
       "    .dataframe tbody tr th {\n",
       "        vertical-align: top;\n",
       "    }\n",
       "\n",
       "    .dataframe thead th {\n",
       "        text-align: right;\n",
       "    }\n",
       "</style>\n",
       "<table border=\"1\" class=\"dataframe\">\n",
       "  <thead>\n",
       "    <tr style=\"text-align: right;\">\n",
       "      <th></th>\n",
       "      <th>Id</th>\n",
       "      <th>SepalLengthCm</th>\n",
       "      <th>SepalWidthCm</th>\n",
       "      <th>PetalLengthCm</th>\n",
       "      <th>PetalWidthCm</th>\n",
       "      <th>Species</th>\n",
       "    </tr>\n",
       "  </thead>\n",
       "  <tbody>\n",
       "    <tr>\n",
       "      <th>0</th>\n",
       "      <td>1</td>\n",
       "      <td>5.1</td>\n",
       "      <td>3.5</td>\n",
       "      <td>1.4</td>\n",
       "      <td>0.2</td>\n",
       "      <td>1</td>\n",
       "    </tr>\n",
       "    <tr>\n",
       "      <th>1</th>\n",
       "      <td>2</td>\n",
       "      <td>4.9</td>\n",
       "      <td>3.0</td>\n",
       "      <td>1.4</td>\n",
       "      <td>0.2</td>\n",
       "      <td>1</td>\n",
       "    </tr>\n",
       "    <tr>\n",
       "      <th>2</th>\n",
       "      <td>3</td>\n",
       "      <td>4.7</td>\n",
       "      <td>3.2</td>\n",
       "      <td>1.3</td>\n",
       "      <td>0.2</td>\n",
       "      <td>1</td>\n",
       "    </tr>\n",
       "    <tr>\n",
       "      <th>3</th>\n",
       "      <td>4</td>\n",
       "      <td>4.6</td>\n",
       "      <td>3.1</td>\n",
       "      <td>1.5</td>\n",
       "      <td>0.2</td>\n",
       "      <td>1</td>\n",
       "    </tr>\n",
       "    <tr>\n",
       "      <th>4</th>\n",
       "      <td>5</td>\n",
       "      <td>5.0</td>\n",
       "      <td>3.6</td>\n",
       "      <td>1.4</td>\n",
       "      <td>0.2</td>\n",
       "      <td>1</td>\n",
       "    </tr>\n",
       "    <tr>\n",
       "      <th>...</th>\n",
       "      <td>...</td>\n",
       "      <td>...</td>\n",
       "      <td>...</td>\n",
       "      <td>...</td>\n",
       "      <td>...</td>\n",
       "      <td>...</td>\n",
       "    </tr>\n",
       "    <tr>\n",
       "      <th>145</th>\n",
       "      <td>146</td>\n",
       "      <td>6.7</td>\n",
       "      <td>3.0</td>\n",
       "      <td>5.2</td>\n",
       "      <td>2.3</td>\n",
       "      <td>3</td>\n",
       "    </tr>\n",
       "    <tr>\n",
       "      <th>146</th>\n",
       "      <td>147</td>\n",
       "      <td>6.3</td>\n",
       "      <td>2.5</td>\n",
       "      <td>5.0</td>\n",
       "      <td>1.9</td>\n",
       "      <td>3</td>\n",
       "    </tr>\n",
       "    <tr>\n",
       "      <th>147</th>\n",
       "      <td>148</td>\n",
       "      <td>6.5</td>\n",
       "      <td>3.0</td>\n",
       "      <td>5.2</td>\n",
       "      <td>2.0</td>\n",
       "      <td>3</td>\n",
       "    </tr>\n",
       "    <tr>\n",
       "      <th>148</th>\n",
       "      <td>149</td>\n",
       "      <td>6.2</td>\n",
       "      <td>3.4</td>\n",
       "      <td>5.4</td>\n",
       "      <td>2.3</td>\n",
       "      <td>3</td>\n",
       "    </tr>\n",
       "    <tr>\n",
       "      <th>149</th>\n",
       "      <td>150</td>\n",
       "      <td>5.9</td>\n",
       "      <td>3.0</td>\n",
       "      <td>5.1</td>\n",
       "      <td>1.8</td>\n",
       "      <td>3</td>\n",
       "    </tr>\n",
       "  </tbody>\n",
       "</table>\n",
       "<p>150 rows × 6 columns</p>\n",
       "</div>"
      ],
      "text/plain": [
       "      Id  SepalLengthCm  SepalWidthCm  PetalLengthCm  PetalWidthCm  Species\n",
       "0      1            5.1           3.5            1.4           0.2        1\n",
       "1      2            4.9           3.0            1.4           0.2        1\n",
       "2      3            4.7           3.2            1.3           0.2        1\n",
       "3      4            4.6           3.1            1.5           0.2        1\n",
       "4      5            5.0           3.6            1.4           0.2        1\n",
       "..   ...            ...           ...            ...           ...      ...\n",
       "145  146            6.7           3.0            5.2           2.3        3\n",
       "146  147            6.3           2.5            5.0           1.9        3\n",
       "147  148            6.5           3.0            5.2           2.0        3\n",
       "148  149            6.2           3.4            5.4           2.3        3\n",
       "149  150            5.9           3.0            5.1           1.8        3\n",
       "\n",
       "[150 rows x 6 columns]"
      ]
     },
     "execution_count": 11,
     "metadata": {},
     "output_type": "execute_result"
    }
   ],
   "source": [
    "data"
   ]
  },
  {
   "cell_type": "code",
   "execution_count": 12,
   "metadata": {},
   "outputs": [],
   "source": [
    "X = data.iloc[:, 1:5].values\n",
    "y = data.iloc[:, -1].values"
   ]
  },
  {
   "cell_type": "markdown",
   "metadata": {},
   "source": [
    "Blok kode di atas digunakan untuk membagi data menjadi data input dan output, dimana X akan mengambil seluruh nilai pada kolom index 1 sampai kurang dari 5, dan y akan terisi oleh nilai di kolom terakhir yang merupakan kolom kelas atau target"
   ]
  },
  {
   "cell_type": "code",
   "execution_count": 14,
   "metadata": {},
   "outputs": [],
   "source": [
    "from sklearn.model_selection import train_test_split\n",
    "X_train, X_test, y_train, y_test = train_test_split(X, y, test_size = 0.2, random_state = 45)"
   ]
  },
  {
   "cell_type": "markdown",
   "metadata": {},
   "source": [
    "Blok kode di atas digunakan untuk membagi data menjadi data train dan data testing, dimana pembagian untuk data training dan data testing adalah 80%:20% dengan random state sebesar 45 untuk mengacak data karena data awal masih terurut berdasarkan kategori atau kelasnya masing-masing"
   ]
  },
  {
   "cell_type": "code",
   "execution_count": 15,
   "metadata": {},
   "outputs": [],
   "source": [
    "from sklearn.preprocessing import StandardScaler\n",
    "sc = StandardScaler()"
   ]
  },
  {
   "cell_type": "code",
   "execution_count": 16,
   "metadata": {},
   "outputs": [],
   "source": [
    "X_train = sc.fit_transform(X_train)\n",
    "X_test = sc.transform(X_test)"
   ]
  },
  {
   "cell_type": "markdown",
   "metadata": {},
   "source": [
    "Pada kode di atas, dilakukan suatu proses scaling untuk nilai input atau nilai X yang sudah terbagi menjadi X_train dan X_test, dimana scaling sendiri dilakukan untuk normalisasi atau scaling input secara default object scaler sendiri akan melakukan scaling atau normalisasi dengan variance based"
   ]
  },
  {
   "cell_type": "code",
   "execution_count": 21,
   "metadata": {},
   "outputs": [
    {
     "data": {
      "text/plain": [
       "array([[ 1.15648738, -0.54035544,  0.59307474,  0.26928484],\n",
       "       [-0.17327163, -0.31829156,  0.24870876,  0.13684967],\n",
       "       [ 0.18938992, -1.87273871,  0.70786339,  0.40172   ],\n",
       "       [-0.05238445, -0.76241932,  0.76525772,  0.93146067],\n",
       "       [-1.01948191, -0.09622768, -1.2435438 , -1.31993715],\n",
       "       [ 0.67293865,  0.1258362 ,  0.99483504,  0.7990255 ],\n",
       "       [-1.86569218, -0.09622768, -1.53051545, -1.45237232],\n",
       "       [-1.01948191,  0.79202784, -1.2435438 , -1.05506682],\n",
       "       [ 0.67293865, -0.31829156,  0.30610309,  0.13684967],\n",
       "       [-1.26125627,  0.1258362 , -1.2435438 , -1.31993715],\n",
       "       [-0.41504599,  2.56853887, -1.35833246, -1.31993715],\n",
       "       [-0.05238445, -0.76241932,  0.07652577,  0.00441451],\n",
       "       [-1.14036909, -0.09622768, -1.35833246, -1.31993715],\n",
       "       [ 1.27737456,  0.1258362 ,  0.65046907,  0.40172   ],\n",
       "       [-1.01948191, -1.65067484, -0.2678402 , -0.26045583],\n",
       "       [-0.89859472,  1.45821947, -1.30093813, -1.05506682],\n",
       "       [ 0.67293865, -0.76241932,  0.88004638,  0.93146067],\n",
       "       [ 0.18938992, -1.87273871,  0.1339201 , -0.26045583],\n",
       "       [ 2.24447202,  1.68028335,  1.68356699,  1.32876616],\n",
       "       [-1.14036909,  0.1258362 , -1.30093813, -1.45237232],\n",
       "       [-1.26125627, -0.09622768, -1.35833246, -1.18750199],\n",
       "       [-0.29415881, -0.09622768,  0.42089175,  0.40172   ],\n",
       "       [ 0.67293865, -0.54035544,  1.05222937,  1.196331  ],\n",
       "       [-0.65682036,  1.45821947, -1.30093813, -1.31993715],\n",
       "       [ 1.0356002 ,  0.56996396,  1.1096237 ,  1.72607166],\n",
       "       [-0.89859472,  1.68028335, -1.30093813, -1.18750199],\n",
       "       [-1.38214345,  0.34790008, -1.2435438 , -1.31993715],\n",
       "       [-0.29415881, -0.76241932,  0.24870876,  0.13684967],\n",
       "       [-1.50303064,  0.34790008, -1.35833246, -1.31993715],\n",
       "       [-0.41504599, -0.9844832 ,  0.36349742,  0.00441451],\n",
       "       [ 0.55205147, -1.20654708,  0.65046907,  0.40172   ],\n",
       "       [ 0.18938992, -0.09622768,  0.59307474,  0.7990255 ],\n",
       "       [-0.29415881, -1.20654708,  0.07652577, -0.12802066],\n",
       "       [ 1.27737456,  0.1258362 ,  0.76525772,  1.46120133],\n",
       "       [-1.38214345,  0.34790008, -1.41572679, -1.31993715],\n",
       "       [-0.89859472,  0.79202784, -1.30093813, -1.31993715],\n",
       "       [-1.62391782, -1.65067484, -1.41572679, -1.18750199],\n",
       "       [-0.89859472,  0.56996396, -1.18614947, -0.92263166],\n",
       "       [ 0.3102771 , -0.54035544,  0.1339201 ,  0.13684967],\n",
       "       [-1.01948191,  0.79202784, -1.30093813, -1.31993715],\n",
       "       [ 1.39826174,  0.34790008,  0.53568041,  0.26928484],\n",
       "       [ 2.24447202, -0.09622768,  1.33920102,  1.46120133],\n",
       "       [-0.41504599, -1.42861096,  0.01913144, -0.12802066],\n",
       "       [ 0.3102771 , -0.54035544,  0.53568041,  0.00441451],\n",
       "       [ 0.43116428, -0.31829156,  0.30610309,  0.13684967],\n",
       "       [-1.14036909,  0.1258362 , -1.30093813, -1.45237232],\n",
       "       [-0.53593318,  0.79202784, -1.18614947, -1.31993715],\n",
       "       [ 0.18938992, -0.76241932,  0.76525772,  0.53415517],\n",
       "       [-0.17327163,  1.68028335, -1.18614947, -1.18750199],\n",
       "       [ 0.18938992, -0.31829156,  0.42089175,  0.40172   ],\n",
       "       [ 0.55205147,  0.56996396,  1.28180669,  1.72607166],\n",
       "       [ 2.24447202, -0.54035544,  1.68356699,  1.06389583],\n",
       "       [-0.05238445, -0.54035544,  0.76525772,  1.5936365 ],\n",
       "       [-0.41504599, -1.20654708,  0.1339201 ,  0.13684967],\n",
       "       [-0.05238445, -0.76241932,  0.19131443, -0.26045583],\n",
       "       [ 1.15648738,  0.34790008,  1.22441236,  1.46120133],\n",
       "       [-0.41504599, -1.42861096, -0.03826289, -0.26045583],\n",
       "       [-0.53593318,  1.90234723, -1.18614947, -1.05506682],\n",
       "       [-0.29415881, -0.09622768,  0.19131443,  0.13684967],\n",
       "       [-0.17327163, -0.54035544,  0.42089175,  0.13684967],\n",
       "       [-0.77770754, -0.76241932,  0.07652577,  0.26928484],\n",
       "       [ 1.51914893, -0.09622768,  1.22441236,  1.196331  ],\n",
       "       [-0.17327163, -0.54035544,  0.19131443,  0.13684967],\n",
       "       [ 0.06850274,  0.34790008,  0.59307474,  0.7990255 ],\n",
       "       [ 1.76092329, -0.31829156,  1.45398968,  0.7990255 ],\n",
       "       [-1.01948191, -2.31686647, -0.15305154, -0.26045583],\n",
       "       [ 0.91471301, -0.31829156,  0.47828608,  0.13684967],\n",
       "       [ 0.06850274, -0.09622768,  0.76525772,  0.7990255 ],\n",
       "       [ 0.3102771 , -0.09622768,  0.65046907,  0.7990255 ],\n",
       "       [ 0.79382583, -0.09622768,  0.82265205,  1.06389583],\n",
       "       [-0.77770754,  1.01409172, -1.30093813, -1.31993715],\n",
       "       [-1.50303064,  1.23615559, -1.58790978, -1.31993715],\n",
       "       [-0.89859472, -1.20654708, -0.44002319, -0.12802066],\n",
       "       [ 1.64003611,  1.23615559,  1.33920102,  1.72607166],\n",
       "       [ 0.55205147, -1.20654708,  0.70786339,  0.93146067],\n",
       "       [ 0.3102771 , -0.9844832 ,  1.05222937,  0.26928484],\n",
       "       [-0.53593318,  1.90234723, -1.41572679, -1.05506682],\n",
       "       [ 0.79382583, -0.54035544,  0.47828608,  0.40172   ],\n",
       "       [ 0.79382583, -0.09622768,  0.99483504,  0.7990255 ],\n",
       "       [ 0.3102771 , -0.31829156,  0.53568041,  0.26928484],\n",
       "       [ 0.91471301, -0.09622768,  0.36349742,  0.26928484],\n",
       "       [ 1.0356002 , -0.09622768,  0.70786339,  0.66659033],\n",
       "       [-1.01948191,  0.56996396, -1.35833246, -1.31993715],\n",
       "       [ 0.55205147,  0.79202784,  1.05222937,  1.5936365 ],\n",
       "       [ 0.79382583, -0.09622768,  1.16701803,  1.32876616],\n",
       "       [-1.26125627,  0.79202784, -1.2435438 , -1.31993715],\n",
       "       [-1.744805  ,  0.34790008, -1.41572679, -1.31993715],\n",
       "       [ 1.0356002 , -1.20654708,  1.16701803,  0.7990255 ],\n",
       "       [-1.50303064,  0.79202784, -1.35833246, -1.18750199],\n",
       "       [ 0.67293865, -0.54035544,  1.05222937,  1.32876616],\n",
       "       [-0.17327163, -0.9844832 , -0.15305154, -0.26045583],\n",
       "       [ 0.06850274, -0.09622768,  0.24870876,  0.40172   ],\n",
       "       [ 1.27737456,  0.1258362 ,  0.93744071,  1.196331  ],\n",
       "       [ 1.88181048, -0.54035544,  1.33920102,  0.93146067],\n",
       "       [ 1.0356002 ,  0.1258362 ,  0.53568041,  0.40172   ],\n",
       "       [-0.53593318,  0.79202784, -1.30093813, -1.05506682],\n",
       "       [-0.41504599,  1.01409172, -1.41572679, -1.31993715],\n",
       "       [-1.14036909, -1.20654708,  0.42089175,  0.66659033],\n",
       "       [-0.05238445,  2.12441111, -1.47312112, -1.31993715],\n",
       "       [ 0.55205147,  0.56996396,  0.53568041,  0.53415517],\n",
       "       [ 0.43116428, -0.54035544,  0.59307474,  0.7990255 ],\n",
       "       [ 0.79382583,  0.34790008,  0.76525772,  1.06389583],\n",
       "       [-0.89859472,  1.01409172, -1.35833246, -1.18750199],\n",
       "       [-1.26125627, -0.09622768, -1.35833246, -1.45237232],\n",
       "       [-1.26125627,  0.79202784, -1.07136081, -1.31993715],\n",
       "       [ 0.43116428,  0.79202784,  0.93744071,  1.46120133],\n",
       "       [-1.744805  , -0.31829156, -1.35833246, -1.31993715],\n",
       "       [-0.89859472,  1.68028335, -1.2435438 , -1.31993715],\n",
       "       [ 2.24447202, -0.9844832 ,  1.79835565,  1.46120133],\n",
       "       [-1.14036909, -1.42861096, -0.2678402 , -0.26045583],\n",
       "       [-0.41504599, -1.65067484,  0.1339201 ,  0.13684967],\n",
       "       [ 1.0356002 ,  0.1258362 ,  0.36349742,  0.26928484],\n",
       "       [-0.17327163,  3.01266663, -1.30093813, -1.05506682],\n",
       "       [ 1.27737456,  0.34790008,  1.1096237 ,  1.46120133],\n",
       "       [-0.29415881, -0.54035544,  0.65046907,  1.06389583],\n",
       "       [ 0.43116428, -1.87273871,  0.42089175,  0.40172   ],\n",
       "       [-0.17327163, -0.09622768,  0.24870876,  0.00441451],\n",
       "       [-0.77770754,  2.34647499, -1.30093813, -1.45237232],\n",
       "       [ 1.0356002 ,  0.56996396,  1.1096237 ,  1.196331  ],\n",
       "       [ 2.48624639,  1.68028335,  1.511384  ,  1.06389583]])"
      ]
     },
     "execution_count": 21,
     "metadata": {},
     "output_type": "execute_result"
    }
   ],
   "source": [
    "X_train"
   ]
  },
  {
   "cell_type": "code",
   "execution_count": null,
   "metadata": {},
   "outputs": [],
   "source": []
  }
 ],
 "metadata": {
  "kernelspec": {
   "display_name": "Python 3",
   "language": "python",
   "name": "python3"
  },
  "language_info": {
   "codemirror_mode": {
    "name": "ipython",
    "version": 3
   },
   "file_extension": ".py",
   "mimetype": "text/x-python",
   "name": "python",
   "nbconvert_exporter": "python",
   "pygments_lexer": "ipython3",
   "version": "3.7.1"
  }
 },
 "nbformat": 4,
 "nbformat_minor": 2
}
