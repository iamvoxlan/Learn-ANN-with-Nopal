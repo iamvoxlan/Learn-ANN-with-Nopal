{
 "cells": [
  {
   "cell_type": "code",
   "execution_count": 1,
   "metadata": {},
   "outputs": [],
   "source": [
    "import numpy as np"
   ]
  },
  {
   "cell_type": "markdown",
   "metadata": {},
   "source": [
    "Initiate data input, target, weight, and bias"
   ]
  },
  {
   "cell_type": "code",
   "execution_count": 2,
   "metadata": {},
   "outputs": [],
   "source": [
    "inputData = np.array([[1, 0, 0, 0, 1, 0],\n",
    "                      [0, 1, 1, 1, 1, 0],\n",
    "                      [0, 0, 1, 0, 0, 1],\n",
    "                      [0, 0, 1, 0, 1, 0],\n",
    "                      [0, 1, 0, 0, 0, 1],\n",
    "                      [1, 0, 1, 0, 1, 1],\n",
    "                      [0, 0, 1, 1, 0, 0],\n",
    "                      [0, 1, 0, 1, 0, 0],\n",
    "                      [1, 0, 0, 1, 0, 1],\n",
    "                      [0, 1, 1, 1, 1, 1]])\n",
    "\n",
    "target = np.array([0, 1, 0, 0, 0, 0, 1, 1, 1, 1])\n",
    "\n",
    "w=np.array([0.0, 0.0, 0.0, 0.0, 0.0, 0.0])\n",
    "b=0.0\n",
    "learning_rate=0.1"
   ]
  },
  {
   "cell_type": "markdown",
   "metadata": {},
   "source": [
    "Learning with hebian rules"
   ]
  },
  {
   "cell_type": "code",
   "execution_count": 3,
   "metadata": {},
   "outputs": [],
   "source": [
    "for x in range(len(inputData)):\n",
    "    x_input=inputData[x]\n",
    "    for y in range(len(x_input)):\n",
    "        w[y]=w[y]+x_input[y]*target[y]*learning_rate\n",
    "        b=b+target[y]*learning_rate"
   ]
  },
  {
   "cell_type": "markdown",
   "metadata": {},
   "source": [
    "Define the activation function with binary step function"
   ]
  },
  {
   "cell_type": "code",
   "execution_count": 4,
   "metadata": {},
   "outputs": [],
   "source": [
    "def activation_fun(x_in):\n",
    "    if x_in>=1:\n",
    "        return 1\n",
    "    else:\n",
    "        return 0"
   ]
  },
  {
   "cell_type": "markdown",
   "metadata": {},
   "source": [
    "Predicting result with adjusted weight and bias"
   ]
  },
  {
   "cell_type": "code",
   "execution_count": 5,
   "metadata": {},
   "outputs": [
    {
     "name": "stdout",
     "output_type": "stream",
     "text": [
      "[0. 1. 0. 0. 1. 0. 0. 1. 0. 1.]\n"
     ]
    }
   ],
   "source": [
    "predict_res=np.zeros(len(inputData))\n",
    "for x in range(len(inputData)):\n",
    "    x_input=inputData[x]\n",
    "    for y in range(len(x_input)):\n",
    "        predict_res[x]+=x_input[y]*w[y]\n",
    "    predict_res[x]+=b\n",
    "\n",
    "for x in range(len(predict_res)):\n",
    "    predict_res[x]=activation_fun(predict_res[x])\n",
    "print(predict_res)"
   ]
  },
  {
   "cell_type": "markdown",
   "metadata": {},
   "source": [
    "Find the accuracy by subtitute the target and predicted value"
   ]
  },
  {
   "cell_type": "code",
   "execution_count": 6,
   "metadata": {},
   "outputs": [],
   "source": [
    "result_=target-predict_res\n",
    "sum_acc=0\n",
    "for x in (result_):\n",
    "    if x==0:\n",
    "        sum_acc+=1\n",
    "acc=sum_acc/len(result_)"
   ]
  },
  {
   "cell_type": "code",
   "execution_count": 7,
   "metadata": {},
   "outputs": [
    {
     "name": "stdout",
     "output_type": "stream",
     "text": [
      "The accuracy is: \n",
      "0.7\n"
     ]
    }
   ],
   "source": [
    "print(\"The accuracy is: \")\n",
    "print(acc)"
   ]
  }
 ],
 "metadata": {
  "kernelspec": {
   "display_name": "Python 3",
   "language": "python",
   "name": "python3"
  },
  "language_info": {
   "codemirror_mode": {
    "name": "ipython",
    "version": 3
   },
   "file_extension": ".py",
   "mimetype": "text/x-python",
   "name": "python",
   "nbconvert_exporter": "python",
   "pygments_lexer": "ipython3",
   "version": "3.7.1"
  }
 },
 "nbformat": 4,
 "nbformat_minor": 2
}
