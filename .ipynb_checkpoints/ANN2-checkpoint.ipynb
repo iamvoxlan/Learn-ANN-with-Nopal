{
 "cells": [
  {
   "cell_type": "code",
   "execution_count": 1,
   "metadata": {},
   "outputs": [],
   "source": [
    "import numpy as np\n",
    "import math as mat"
   ]
  },
  {
   "cell_type": "markdown",
   "metadata": {},
   "source": [
    "Inisialisasi data masukkan dan target yang diinginkan serta bobot dan bias awal"
   ]
  },
  {
   "cell_type": "code",
   "execution_count": 2,
   "metadata": {},
   "outputs": [],
   "source": [
    "inputData = np.array([[1, 0, 0, 0, 1, 0],\n",
    "                      [0, 1, 1, 1, 1, 0],\n",
    "                      [0, 0, 1, 0, 0, 1],\n",
    "                      [0, 0, 1, 0, 1, 0],\n",
    "                      [0, 1, 0, 0, 0, 1],\n",
    "                      [1, 0, 1, 0, 1, 1],\n",
    "                      [0, 0, 1, 1, 0, 0],\n",
    "                      [0, 1, 0, 1, 0, 0],\n",
    "                      [1, 0, 0, 1, 0, 1],\n",
    "                      [0, 1, 1, 1, 1, 1]])\n",
    "target = np.array(['A', 'B', 'A', 'A', 'A', 'A', 'B', 'B', 'B', 'B'])"
   ]
  },
  {
   "cell_type": "code",
   "execution_count": 3,
   "metadata": {},
   "outputs": [],
   "source": [
    "w_in=np.array([\n",
    "    [0.1, 0.1, 0.1],\n",
    "    [0.1, 0.1, 0.1],\n",
    "    [0.1, 0.1, 0.1],\n",
    "    [0.1, 0.1, 0.1],\n",
    "    [0.1, 0.1, 0.1],\n",
    "    [0.1, 0.1, 0.1]\n",
    "])\n",
    "w_hid=np.array([0.1, 0.1, 0.1])\n",
    "bias_hid=np.array([0.1, 0.1, 0.1])\n",
    "bias_out=np.array([0.1])"
   ]
  },
  {
   "cell_type": "markdown",
   "metadata": {},
   "source": [
    "Pemecahan data menjadi data train dan data test"
   ]
  },
  {
   "cell_type": "code",
   "execution_count": 4,
   "metadata": {},
   "outputs": [
    {
     "name": "stdout",
     "output_type": "stream",
     "text": [
      "[[0 1 1 1 1 1]\n",
      " [0 1 1 1 1 0]\n",
      " [0 0 1 1 0 0]\n",
      " [0 1 0 1 0 0]\n",
      " [0 0 1 0 1 0]\n",
      " [1 0 0 0 1 0]\n",
      " [1 0 1 0 1 1]] ['B' 'B' 'B' 'B' 'A' 'A' 'A']\n",
      "[[0 0 1 0 0 1]\n",
      " [1 0 0 1 0 1]\n",
      " [0 1 0 0 0 1]] ['A' 'B' 'A']\n"
     ]
    }
   ],
   "source": [
    "from sklearn.model_selection import train_test_split\n",
    "x_train, x_test, y_train, y_test = train_test_split(inputData, target, test_size=0.25, random_state=0)\n",
    "print(x_train, y_train)\n",
    "print(x_test, y_test)"
   ]
  },
  {
   "cell_type": "code",
   "execution_count": 5,
   "metadata": {},
   "outputs": [],
   "source": [
    "def sigma_count(x_in, w_in, b_in):\n",
    "    sigma_sum=0\n",
    "    for i in range(len(x_in)):\n",
    "        sigma_sum+=x_in[i]*w_in[i]\n",
    "    sigma_sum+=b_in\n",
    "    return sigma_sum"
   ]
  },
  {
   "cell_type": "code",
   "execution_count": 6,
   "metadata": {},
   "outputs": [],
   "source": [
    "def sigmoid_count(x_input):\n",
    "    x_input=x_input*(-1)\n",
    "    sigmoid_value=1/(1+mat.exp(x_input))\n",
    "    return sigmoid_value"
   ]
  },
  {
   "cell_type": "code",
   "execution_count": 8,
   "metadata": {},
   "outputs": [],
   "source": [
    "def forward_count(x_in, w_in_layer, w_hid_layer, b_hid_layer, b_out_layer):\n",
    "    input_hidden=np.zeros(3)\n",
    "    for x in range(len(input_hidden)):\n",
    "        w_in_col=w_in_layer[:, x]\n",
    "        input_hidden[x]=sigma_count(x_in, w_in_col, b_hid_layer[x])\n",
    "    print(input_hidden)\n",
    "    for x in range(len(input_hidden)):\n",
    "        input_hidden[x]=sigmoid_count(input_hidden[x])\n",
    "    print(input_hidden)\n",
    "    \n",
    "    outlayer_in=sigma_count(input_hidden, w_hid_layer, b_hid_layer[0])\n",
    "    print(outlayer_in)\n",
    "    forward_output=sigmoid_count(outlayer_in)\n",
    "    return forward_output"
   ]
  },
  {
   "cell_type": "code",
   "execution_count": 9,
   "metadata": {},
   "outputs": [
    {
     "name": "stdout",
     "output_type": "stream",
     "text": [
      "[1 0 0 0 1 0]\n",
      "[0.3 0.3 0.3]\n",
      "[0.57444252 0.57444252 0.57444252]\n",
      "0.27233275504349774\n",
      "0.5676655030499783\n"
     ]
    }
   ],
   "source": [
    "input_x=inputData[0, :]\n",
    "print(input_x)\n",
    "forward_output=forward_count(input_x, w_in, w_hid, bias_hid, bias_out)\n",
    "print(forward_output)"
   ]
  }
 ],
 "metadata": {
  "kernelspec": {
   "display_name": "Python 3",
   "language": "python",
   "name": "python3"
  },
  "language_info": {
   "codemirror_mode": {
    "name": "ipython",
    "version": 3
   },
   "file_extension": ".py",
   "mimetype": "text/x-python",
   "name": "python",
   "nbconvert_exporter": "python",
   "pygments_lexer": "ipython3",
   "version": "3.7.1"
  }
 },
 "nbformat": 4,
 "nbformat_minor": 2
}
