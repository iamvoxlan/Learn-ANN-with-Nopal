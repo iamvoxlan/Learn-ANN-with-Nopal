{
 "cells": [
  {
   "cell_type": "code",
   "execution_count": 1,
   "metadata": {},
   "outputs": [],
   "source": [
    "import numpy as np\n",
    "import math as mat"
   ]
  },
  {
   "cell_type": "markdown",
   "metadata": {},
   "source": [
    "Inisialisasi data masukkan dan target yang diinginkan serta bobot dan bias awal serta learning rate"
   ]
  },
  {
   "cell_type": "code",
   "execution_count": 2,
   "metadata": {},
   "outputs": [],
   "source": [
    "inputData = np.array([[1, 0, 0, 0, 1, 0],\n",
    "                      [0, 1, 1, 1, 1, 0],\n",
    "                      [0, 0, 1, 0, 0, 1],\n",
    "                      [0, 0, 1, 0, 1, 0],\n",
    "                      [0, 1, 0, 0, 0, 1],\n",
    "                      [1, 0, 1, 0, 1, 1],\n",
    "                      [0, 0, 1, 1, 0, 0],\n",
    "                      [0, 1, 0, 1, 0, 0],\n",
    "                      [1, 0, 0, 1, 0, 1],\n",
    "                      [0, 1, 1, 1, 1, 1]])\n",
    "target = np.array([0, 1, 0, 0, 0, 0, 1, 1, 1, 1])"
   ]
  },
  {
   "cell_type": "code",
   "execution_count": 3,
   "metadata": {},
   "outputs": [],
   "source": [
    "w_in=np.array([\n",
    "    [0.1, 0.1, 0.1],\n",
    "    [0.1, 0.1, 0.1],\n",
    "    [0.1, 0.1, 0.1],\n",
    "    [0.1, 0.1, 0.1],\n",
    "    [0.1, 0.1, 0.1],\n",
    "    [0.1, 0.1, 0.1]\n",
    "])\n",
    "w_hid=np.array([0.1, 0.1, 0.1])\n",
    "bias_hid=np.array([0.1, 0.1, 0.1])\n",
    "bias_out=np.array([0.1])\n",
    "input_hidden=np.zeros(3)\n",
    "\n",
    "learning_rate=0.1"
   ]
  },
  {
   "cell_type": "markdown",
   "metadata": {},
   "source": [
    "Pemecahan data menjadi data train dan data test"
   ]
  },
  {
   "cell_type": "code",
   "execution_count": 4,
   "metadata": {},
   "outputs": [
    {
     "name": "stdout",
     "output_type": "stream",
     "text": [
      "[[0 1 1 1 1 1]\n",
      " [0 1 1 1 1 0]\n",
      " [0 0 1 1 0 0]\n",
      " [0 1 0 1 0 0]\n",
      " [0 0 1 0 1 0]\n",
      " [1 0 0 0 1 0]\n",
      " [1 0 1 0 1 1]] [1 1 1 1 0 0 0]\n",
      "[[0 0 1 0 0 1]\n",
      " [1 0 0 1 0 1]\n",
      " [0 1 0 0 0 1]] [0 1 0]\n"
     ]
    }
   ],
   "source": [
    "from sklearn.model_selection import train_test_split\n",
    "x_train, x_test, y_train, y_test = train_test_split(inputData, target, test_size=0.25, random_state=0)\n",
    "print(x_train, y_train)\n",
    "print(x_test, y_test)"
   ]
  },
  {
   "cell_type": "code",
   "execution_count": 5,
   "metadata": {},
   "outputs": [],
   "source": [
    "def sigma_count(x_in, w_in, b_in):\n",
    "    sigma_sum=0\n",
    "    for i in range(len(x_in)):\n",
    "        sigma_sum+=x_in[i]*w_in[i]\n",
    "    sigma_sum+=b_in\n",
    "    return sigma_sum"
   ]
  },
  {
   "cell_type": "code",
   "execution_count": 6,
   "metadata": {},
   "outputs": [],
   "source": [
    "def sigmoid_count(x_input):\n",
    "    x_input=x_input*(-1)\n",
    "    sigmoid_value=1/(1+mat.exp(x_input))\n",
    "    return sigmoid_value"
   ]
  },
  {
   "cell_type": "code",
   "execution_count": 7,
   "metadata": {},
   "outputs": [],
   "source": [
    "def forward_count(x_in, w_in_layer, w_hid_layer, b_hid_layer, b_out_layer):\n",
    "    for x in range(len(input_hidden)):\n",
    "        w_in_col=w_in_layer[:, x]\n",
    "        input_hidden[x]=sigma_count(x_in, w_in_col, b_hid_layer[x])\n",
    "    for x in range(len(input_hidden)):\n",
    "        input_hidden[x]=sigmoid_count(input_hidden[x])\n",
    "    \n",
    "    outlayer_in=sigma_count(input_hidden, w_hid_layer, b_hid_layer[0])\n",
    "    forward_output=sigmoid_count(outlayer_in)\n",
    "    return forward_output"
   ]
  },
  {
   "cell_type": "code",
   "execution_count": 15,
   "metadata": {},
   "outputs": [],
   "source": [
    "def backprop(err, x_in, forward_output):\n",
    "    global w_in\n",
    "    global w_hid\n",
    "    global bias_hid\n",
    "    global bias_out\n",
    "    d_out=forward_output*(1-forward_output*err)\n",
    "    d_in_hidden=np.zeros(len(input_hidden))\n",
    "    for x in range(len(input_hidden)):\n",
    "        d_in_hidden[x]=learning_rate*d_out*input_hidden[x]\n",
    "    d_bias_in_hidden=learning_rate*d_out\n",
    "    d_hidden_layer=np.zeros(len(w_hid)) #len(w_hid)\n",
    "    for x in range(len(d_hidden_layer)):\n",
    "        d_hidden_layer[x]=input_hidden[x]*(1-input_hidden[x])*d_out*w_hid[x]\n",
    "    d_in=np.zeros(w_in.shape)\n",
    "#     print(len(d_in))\n",
    "    for x in range(len(d_in)):\n",
    "        for y in range(len(d_in[0])):\n",
    "            d_in[x][y]=learning_rate*d_hidden_layer[y]*x_in[x]\n",
    "    d_bias_in=learning_rate*d_hidden_layer\n",
    "#     adjust_weight(d_in, d_in_hidden, d_bias_in_hidden, d_bias_in)\n",
    "    w_in=w_in+d_in\n",
    "    w_hid=w_hid+d_in_hidden\n",
    "    bias_hid=bias_hid+d_bias_in_hidden\n",
    "    bias_out=bias_out+d_bias_in"
   ]
  },
  {
   "cell_type": "code",
   "execution_count": 16,
   "metadata": {},
   "outputs": [],
   "source": [
    "def train_data(epoch):\n",
    "    for a in range(epoch):\n",
    "        for i in range(len(x_train)):\n",
    "            input_x=x_train[i, :]\n",
    "            output_y=y_train[i]\n",
    "            forward_output=forward_count(input_x, w_in, w_hid, bias_hid, bias_out)\n",
    "            err=output_y-forward_output\n",
    "            backprop(err, input_x, forward_output)"
   ]
  },
  {
   "cell_type": "code",
   "execution_count": 19,
   "metadata": {},
   "outputs": [
    {
     "name": "stdout",
     "output_type": "stream",
     "text": [
      "[[0.23940133 0.23940133 0.23940133]\n",
      " [0.20035388 0.20035388 0.20035388]\n",
      " [0.33439022 0.33439022 0.33439022]\n",
      " [0.24141552 0.24141552 0.24141552]\n",
      " [0.37374385 0.37374385 0.37374385]\n",
      " [0.18582963 0.18582963 0.18582963]]\n",
      "[38.96230477 38.96230477 38.96230477]\n",
      "[39.45102168 39.45102168 39.45102168]\n",
      "[0.4581937 0.4581937 0.4581937]\n"
     ]
    }
   ],
   "source": [
    "train_data(20)\n",
    "print(w_in)\n",
    "print(w_hid)\n",
    "print(bias_hid)\n",
    "print(bias_out)"
   ]
  },
  {
   "cell_type": "code",
   "execution_count": 24,
   "metadata": {},
   "outputs": [],
   "source": [
    "result=np.zeros(len(x_test))\n",
    "for x in range(len(result)):\n",
    "    result[x]=forward_count(x_test[x], w_in, w_hid, bias_hid, bias_out)"
   ]
  },
  {
   "cell_type": "code",
   "execution_count": 31,
   "metadata": {},
   "outputs": [
    {
     "name": "stdout",
     "output_type": "stream",
     "text": [
      "[1. 1. 1.]\n",
      "[0 1 0]\n"
     ]
    }
   ],
   "source": [
    "print(result)\n",
    "print(y_test)\n",
    "result_=result-y_test\n",
    "sum_acc=0\n",
    "for x in (result_):\n",
    "    if x==0:\n",
    "        sum_acc+=1\n",
    "acc=sum_acc/len(result_)"
   ]
  },
  {
   "cell_type": "code",
   "execution_count": 32,
   "metadata": {},
   "outputs": [
    {
     "name": "stdout",
     "output_type": "stream",
     "text": [
      "The accuracy is: \n",
      "0.3333333333333333\n"
     ]
    }
   ],
   "source": [
    "print(\"The accuracy is: \")\n",
    "print(acc)"
   ]
  },
  {
   "cell_type": "code",
   "execution_count": null,
   "metadata": {},
   "outputs": [],
   "source": []
  }
 ],
 "metadata": {
  "kernelspec": {
   "display_name": "Python 3",
   "language": "python",
   "name": "python3"
  },
  "language_info": {
   "codemirror_mode": {
    "name": "ipython",
    "version": 3
   },
   "file_extension": ".py",
   "mimetype": "text/x-python",
   "name": "python",
   "nbconvert_exporter": "python",
   "pygments_lexer": "ipython3",
   "version": "3.7.1"
  }
 },
 "nbformat": 4,
 "nbformat_minor": 2
}
